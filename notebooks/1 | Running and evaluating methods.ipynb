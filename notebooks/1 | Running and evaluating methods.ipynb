{
 "cells": [
  {
   "cell_type": "markdown",
   "metadata": {},
   "source": [
    "# Overall performance of module detection methods"
   ]
  },
  {
   "cell_type": "code",
   "execution_count": 31,
   "metadata": {
    "scrolled": true
   },
   "outputs": [
    {
     "name": "stdout",
     "output_type": "stream",
     "text": [
      "The autoreload extension is already loaded. To reload it, use:\n",
      "  %reload_ext autoreload\n"
     ]
    }
   ],
   "source": [
    "import sys\n",
    "import os\n",
    "sys.path.insert(0,os.path.abspath(\"../lib/\"))\n",
    "\n",
    "import json\n",
    "\n",
    "from util import JSONExtendedEncoder\n",
    "\n",
    "from modulecontainers import Modules\n",
    "\n",
    "%load_ext autoreload\n",
    "%autoreload 2\n",
    "\n",
    "%matplotlib inline\n",
    "from matplotlib.pyplot import *\n",
    "\n",
    "import pandas as pd\n",
    "import numpy as np\n",
    "\n",
    "import multiprocessing as mp\n",
    "\n",
    "from collections import OrderedDict\n",
    "\n",
    "from itertools import product\n",
    "from collections import defaultdict\n",
    "\n",
    "import itertools\n",
    "import shutil\n",
    "\n",
    "conf_folder = \"conf/\"\n",
    "\n",
    "import os\n",
    "\n",
    "from modulescomparison import ModevalKnownmodules, ModevalCoverage"
   ]
  },
  {
   "cell_type": "markdown",
   "metadata": {},
   "source": [
    "# Running a method on different parameter settings and datasets"
   ]
  },
  {
   "cell_type": "markdown",
   "metadata": {},
   "source": [
    "The following code will explore the parameters of a module detection method on every dataset using a grid-search approach."
   ]
  },
  {
   "cell_type": "markdown",
   "metadata": {},
   "source": [
    "If you want to run your own method, you should wrap it into a python function and add its parameters to `paramexplo_blueprints.py`. We will show the whole workflow here for a \"dummy\"  (but fast) clustering method, which will simply group genes randomly."
   ]
  },
  {
   "cell_type": "markdown",
   "metadata": {},
   "source": [
    "Every module detection method is wrapped in a python function (see lib/moduledetection.py)\n",
    "\n",
    "Because module detection methods usually take a while to run, we generate the files necessary to run a method on the several parameter settings and datasets here. These can then be easily called from the commandline, for example on a computer cluster or locally using GNU `parallel`.\n",
    "\n",
    "This function will be called by scripts/moduledetection.py , which will save the modules in the correct format along with additional run information (such as running times)."
   ]
  },
  {
   "cell_type": "code",
   "execution_count": 33,
   "metadata": {},
   "outputs": [],
   "source": [
    "# datasets to run\n",
    "#datasetnames = [\"ecoli_colombos\", \"ecoli_dream5\", \"yeast_gpl2529\", \"yeast_dream5\", \"synth_ecoli_regulondb\", \"synth_yeast_macisaac\", \"human_tcga\", \"human_gtex\", \"human_seek_gpl5175\"]\n",
    "datasetnames = [\"human_tcga\"]\n",
    "\n",
    "# paramexplo_blueprints.py stores for every method the parameters which will be varied using a grid-search approach.\n",
    "%run ../conf/paramexplo_blueprints.py\n",
    "\n",
    "# choose the method to evaluate\n",
    "method_name = \"dummy\"\n",
    "methodblueprint = blueprints[method_name]"
   ]
  },
  {
   "cell_type": "markdown",
   "metadata": {},
   "source": [
    "Generate different parameter settings using a grid-search."
   ]
  },
  {
   "cell_type": "code",
   "execution_count": 21,
   "metadata": {},
   "outputs": [],
   "source": [
    "params_folder = \"conf/paramexplo/\" + method_name + \"/\"\n",
    "if os.path.exists(\"../\" + params_folder):\n",
    "    shutil.rmtree(\"../\" + params_folder)\n",
    "os.makedirs(\"../\" + params_folder)\n",
    "\n",
    "methodsettings = []\n",
    "method_locations = []\n",
    "i = 0\n",
    "for dynparam_combination in list(itertools.product(*[methodblueprint[\"dynparams\"][param] for param in sorted(methodblueprint[\"dynparams\"].keys())])):\n",
    "    method = {\"params\":{}}\n",
    "    method[\"params\"] = methodblueprint[\"staticparams\"].copy()\n",
    "    method[\"params\"].update(dict(zip(sorted(methodblueprint[\"dynparams\"].keys()), dynparam_combination)))\n",
    "    method[\"location\"] = params_folder + str(i) + \".json\"\n",
    "    method[\"seed\"] = 0\n",
    "\n",
    "    methodsettings.append(method)\n",
    "\n",
    "    json.dump(method, open(\"../\" + method[\"location\"], \"w\"), cls=JSONExtendedEncoder)\n",
    "\n",
    "    method_locations.append(method[\"location\"])\n",
    "\n",
    "    i+=1"
   ]
  },
  {
   "cell_type": "markdown",
   "metadata": {},
   "source": [
    "Now combine the different parameter settings and datasets. Then generate the different python commands to run every parameter setting and dataset in parallel."
   ]
  },
  {
   "cell_type": "code",
   "execution_count": 22,
   "metadata": {},
   "outputs": [],
   "source": [
    "settings_name = \"paramexplo/{method_name}\".format(method_name = method_name)\n",
    "settings = [{\n",
    "        \"dataset_location\":\"conf/datasets/\" + datasetname + \".json\",\n",
    "        \"dataset_name\":datasetname,\n",
    "        \"method_location\":methodsetting[\"location\"],\n",
    "        \"output_folder\":\"results/\" + methodblueprint[\"type\"] + \"/{settings_name}/{i}/\".format(settings_name=settings_name, i=i),\n",
    "        \"settingid\":i\n",
    "    } for i, (datasetname, methodsetting) in enumerate(product(datasetnames, methodsettings))]\n",
    "json.dump(settings, open(\"../conf/settings/{settings_name}.json\".format(settings_name=settings_name), \"w\"))"
   ]
  },
  {
   "cell_type": "code",
   "execution_count": 23,
   "metadata": {},
   "outputs": [],
   "source": [
    "settings_dataset = pd.DataFrame([dict(settingid=setting[\"settingid\"], **json.load(open(\"../\" + setting[\"dataset_location\"]))[\"params\"]) for setting in settings])\n",
    "settings_method = pd.DataFrame([dict(settingid=setting[\"settingid\"], **json.load(open(\"../\" + setting[\"method_location\"]))[\"params\"]) for setting in settings])"
   ]
  },
  {
   "cell_type": "code",
   "execution_count": 35,
   "metadata": {},
   "outputs": [
    {
     "name": "stdout",
     "output_type": "stream",
     "text": [
      "parallel -a tmp/paramexplo/dummy.txt\n"
     ]
    }
   ],
   "source": [
    "base_dir = \"./\"\n",
    "commands = \"\"\n",
    "for i, setting in enumerate(settings):\n",
    "    #commands += \"python scripts/moduledetection.py {method_location} {dataset_location} {output_folder} 0 test\\n\".format(**setting)\n",
    "    commands += \"python3 scripts/\" + methodblueprint[\"type\"] + \".py {method_location} {dataset_location} {output_folder}\\n\".format(**setting)\n",
    "\n",
    "commands_location = \"tmp/{settings_name}.txt\".format(**locals())\n",
    "os.makedirs(\"../\" + os.path.dirname(commands_location), exist_ok=True)\n",
    "with open(\"../\" + commands_location, \"w\") as outfile:\n",
    "    outfile.write(commands)\n",
    "commands_location = \"tmp/{settings_name}.txt\".format(**locals())\n",
    "os.makedirs(os.path.dirname(base_dir + commands_location), exist_ok=True)\n",
    "with open(base_dir + commands_location, \"w\") as outfile:\n",
    "    outfile.write(commands)\n",
    "    \n",
    "#script_location = generate_batchcode(commands_location, settings_name, len(settings), {\"memory\":\"10G\", \"numcores\":1}, \"biclust_comp2\")\n",
    "\n",
    "# this command can be used on most linux computers to run the different parameter settings in parallel\n",
    "print(\"parallel -a \" + commands_location)"
   ]
  },
  {
   "cell_type": "markdown",
   "metadata": {},
   "source": [
    "# Evaluating the method"
   ]
  },
  {
   "cell_type": "markdown",
   "metadata": {},
   "source": [
    "## By comparing with known modules"
   ]
  },
  {
   "cell_type": "code",
   "execution_count": 25,
   "metadata": {},
   "outputs": [],
   "source": [
    "# create pool of processors\n",
    "if \"pool\" in locals().keys():\n",
    "    pool.close()\n",
    "pool = mp.Pool(mp.cpu_count()-1)"
   ]
  },
  {
   "cell_type": "code",
   "execution_count": 26,
   "metadata": {},
   "outputs": [],
   "source": [
    "settings_filtered = [setting for setting in settings if not setting[\"dataset_name\"].startswith(\"human\")] # only evaluate non-human datasets\n",
    "modeval = ModevalKnownmodules(settings_filtered)\n",
    "modeval.run(pool)"
   ]
  },
  {
   "cell_type": "code",
   "execution_count": 27,
   "metadata": {},
   "outputs": [],
   "source": [
    "modeval.save(settings_name)"
   ]
  },
  {
   "cell_type": "markdown",
   "metadata": {},
   "source": [
    "## Using the coverage of regulators"
   ]
  },
  {
   "cell_type": "code",
   "execution_count": 28,
   "metadata": {},
   "outputs": [],
   "source": [
    "from modulescomparison import ModevalCoverage"
   ]
  },
  {
   "cell_type": "code",
   "execution_count": null,
   "metadata": {
    "scrolled": false
   },
   "outputs": [
    {
     "name": "stderr",
     "output_type": "stream",
     "text": [
      "/mnt/hdd_data/thesis/projects/biclust_comp2/code3/moduledetection-evaluation/lib/modulescomparison.py:330: RuntimeWarning: divide by zero encountered in log10\n",
      "  stillenriched = [(np.log10(odds_max) >= cutoff).sum()/len(odds_max) for cutoff in cutoffs]\n",
      "/mnt/hdd_data/thesis/projects/biclust_comp2/code3/moduledetection-evaluation/lib/modulescomparison.py:330: RuntimeWarning: divide by zero encountered in log10\n",
      "  stillenriched = [(np.log10(odds_max) >= cutoff).sum()/len(odds_max) for cutoff in cutoffs]\n",
      "/mnt/hdd_data/thesis/projects/biclust_comp2/code3/moduledetection-evaluation/lib/modulescomparison.py:330: RuntimeWarning: divide by zero encountered in log10\n",
      "  stillenriched = [(np.log10(odds_max) >= cutoff).sum()/len(odds_max) for cutoff in cutoffs]\n",
      "/mnt/hdd_data/thesis/projects/biclust_comp2/code3/moduledetection-evaluation/lib/modulescomparison.py:330: RuntimeWarning: divide by zero encountered in log10\n",
      "  stillenriched = [(np.log10(odds_max) >= cutoff).sum()/len(odds_max) for cutoff in cutoffs]\n",
      "/mnt/hdd_data/thesis/projects/biclust_comp2/code3/moduledetection-evaluation/lib/modulescomparison.py:330: RuntimeWarning: divide by zero encountered in log10\n",
      "  stillenriched = [(np.log10(odds_max) >= cutoff).sum()/len(odds_max) for cutoff in cutoffs]\n"
     ]
    }
   ],
   "source": [
    "# built a pool of processors\n",
    "if \"pool\" in locals().keys():\n",
    "    pool.close()\n",
    "pool = mp.Pool(mp.cpu_count()-1)"
   ]
  },
  {
   "cell_type": "code",
   "execution_count": 30,
   "metadata": {},
   "outputs": [
    {
     "name": "stdout",
     "output_type": "stream",
     "text": [
      "Evaluating a total of 12 settings.\n"
     ]
    }
   ],
   "source": [
    "settings_filtered = [setting for setting in settings if setting[\"dataset_name\"].startswith(\"human\")] # only evaluate human datasets\n",
    "modeval = ModevalCoverage(settings_filtered)\n",
    "modeval.run(pool)"
   ]
  },
  {
   "cell_type": "code",
   "execution_count": 31,
   "metadata": {},
   "outputs": [],
   "source": [
    "modeval.save(settings_name)"
   ]
  },
  {
   "cell_type": "code",
   "execution_count": 32,
   "metadata": {},
   "outputs": [],
   "source": [
    "modeval.load(settings_name)"
   ]
  },
  {
   "cell_type": "markdown",
   "metadata": {},
   "source": [
    "## Comparing with other methods"
   ]
  },
  {
   "cell_type": "code",
   "execution_count": 62,
   "metadata": {},
   "outputs": [],
   "source": [
    "def score_method(scores):\n",
    "    methodscores = []\n",
    "    for ((datasetoi, goldstandardoi), scoresoi), ((datasetor, goldstandardor), scoresor) in product(scores.groupby([\"datasetname\", \"goldstandard\"]), scores.groupby([\"datasetname\", \"goldstandard\"])):\n",
    "        if (datasetor.split(\"_\")[0]==\"synth\" and datasetoi.split(\"_\")[0]!=\"synth\") or (datasetor.split(\"_\")[0]!=\"synth\" and datasetoi.split(\"_\")[0]==\"synth\"):\n",
    "            continue\n",
    "                \n",
    "        if (goldstandardoi.split(\"#\")[-1] != goldstandardor.split(\"#\")[-1]):\n",
    "            if (datasetoi.startswith(\"human\") != datasetor.startswith(\"human\")):\n",
    "                \"\"\n",
    "            else:\n",
    "                continue\n",
    "\n",
    "        # find the most optimal method parameters in the reference dataset (test dataset)\n",
    "        bestparams = scoresor[paramsoi].loc[scoresor[\"score\"].idxmax()]\n",
    "        \n",
    "        try:\n",
    "            rowids = scoresoi.index[np.where(np.all([scoresoi[param] == paramvalue for param, paramvalue in bestparams.items()], 0))[0]]\n",
    "        except:\n",
    "            print(scoresoi)\n",
    "\n",
    "        # now find these parameters in the dataset of interest (training dataset)\n",
    "        rowids = scoresoi.index[np.where(np.all([scoresoi[param] == paramvalue for param, paramvalue in bestparams.items()], 0))[0]]\n",
    "            \n",
    "        if len(rowids) == 0:\n",
    "            print(\"parameters could not be matched!!\", datasetoi, datasetor)\n",
    "            print(bestparams)\n",
    "            print([scoresoi[param] == paramvalue for param, paramvalue in bestparams.items()])\n",
    "        if len(rowids) > 1:\n",
    "            print(datasetoi)\n",
    "            print(\"multiple matched parameters\")\n",
    "            print(scoresoi.loc[rowids][paramsoi])\n",
    "\n",
    "        methodscores.append({\n",
    "            \"datasetoi\":datasetoi,\n",
    "            \"datasetor\":datasetor,\n",
    "            \"score\":scoresoi.loc[rowids,\"score\"].max(),\n",
    "            \"method\":methodname,\n",
    "            \"goldstandardoi\":goldstandardoi,\n",
    "            \"goldstandardor\":goldstandardor,\n",
    "            \"ofinterest\":datasetoi + \"#\" + goldstandardoi,\n",
    "            \"ofreference\":datasetor + \"#\" + goldstandardor,\n",
    "            \"runningtime\":scoresoi.loc[rowids, \"runningtime\"].mean() if \"runningtime\" in scoresoi.columns else 0,\n",
    "            \"moduledef\":scoresoi.loc[rowids, \"moduledef\"].tolist()[0],\n",
    "            \"organismoi\":scoresoi.loc[rowids, \"organism\"].tolist()[0],  \n",
    "        })\n",
    "    \n",
    "    return pd.DataFrame(methodscores)"
   ]
  },
  {
   "cell_type": "code",
   "execution_count": 76,
   "metadata": {},
   "outputs": [],
   "source": [
    "methodnames = [\"dummy\", \"agglom\"]"
   ]
  },
  {
   "cell_type": "code",
   "execution_count": 77,
   "metadata": {},
   "outputs": [
    {
     "name": "stdout",
     "output_type": "stream",
     "text": [
      "dummy\n"
     ]
    },
    {
     "name": "stderr",
     "output_type": "stream",
     "text": [
      "/home/wouters/.local/lib/python3.6/site-packages/pandas/core/frame.py:6201: FutureWarning: Sorting because non-concatenation axis is not aligned. A future version\n",
      "of pandas will change to not sort by default.\n",
      "\n",
      "To accept the future behavior, pass 'sort=True'.\n",
      "\n",
      "To retain the current behavior and silence the warning, pass sort=False\n",
      "\n",
      "  sort=sort)\n"
     ]
    },
    {
     "name": "stdout",
     "output_type": "stream",
     "text": [
      "agglom\n"
     ]
    },
    {
     "ename": "FileNotFoundError",
     "evalue": "File b'../results/modeval_coverage/paramexplo/agglom.tsv' does not exist",
     "output_type": "error",
     "traceback": [
      "\u001b[0;31m---------------------------------------------------------------------------\u001b[0m",
      "\u001b[0;31mFileNotFoundError\u001b[0m                         Traceback (most recent call last)",
      "\u001b[0;32m<ipython-input-77-afa9502ac831>\u001b[0m in \u001b[0;36m<module>\u001b[0;34m()\u001b[0m\n\u001b[1;32m     19\u001b[0m \u001b[0;34m\u001b[0m\u001b[0m\n\u001b[1;32m     20\u001b[0m     \u001b[0mmodeval\u001b[0m \u001b[0;34m=\u001b[0m \u001b[0mModevalCoverage\u001b[0m\u001b[0;34m(\u001b[0m\u001b[0msettings_name\u001b[0m\u001b[0;34m)\u001b[0m\u001b[0;34m\u001b[0m\u001b[0m\n\u001b[0;32m---> 21\u001b[0;31m     \u001b[0mmodeval\u001b[0m\u001b[0;34m.\u001b[0m\u001b[0mload\u001b[0m\u001b[0;34m(\u001b[0m\u001b[0msettings_name\u001b[0m\u001b[0;34m)\u001b[0m\u001b[0;34m\u001b[0m\u001b[0m\n\u001b[0m\u001b[1;32m     22\u001b[0m     \u001b[0mmodeval\u001b[0m\u001b[0;34m.\u001b[0m\u001b[0mscores\u001b[0m\u001b[0;34m[\u001b[0m\u001b[0;34m\"score\"\u001b[0m\u001b[0;34m]\u001b[0m \u001b[0;34m=\u001b[0m \u001b[0mmodeval\u001b[0m\u001b[0;34m.\u001b[0m\u001b[0mscores\u001b[0m\u001b[0;34m[\u001b[0m\u001b[0;34m\"aucodds_permuted\"\u001b[0m\u001b[0;34m]\u001b[0m\u001b[0;34m\u001b[0m\u001b[0m\n\u001b[1;32m     23\u001b[0m     \u001b[0mmodeval\u001b[0m\u001b[0;34m.\u001b[0m\u001b[0mscores\u001b[0m \u001b[0;34m=\u001b[0m \u001b[0mmodeval\u001b[0m\u001b[0;34m.\u001b[0m\u001b[0mscores\u001b[0m\u001b[0;34m.\u001b[0m\u001b[0mmerge\u001b[0m\u001b[0;34m(\u001b[0m\u001b[0msettings_dataset\u001b[0m\u001b[0;34m,\u001b[0m \u001b[0mon\u001b[0m\u001b[0;34m=\u001b[0m\u001b[0;34m\"settingid\"\u001b[0m\u001b[0;34m)\u001b[0m\u001b[0;34m.\u001b[0m\u001b[0mmerge\u001b[0m\u001b[0;34m(\u001b[0m\u001b[0msettings_method\u001b[0m\u001b[0;34m,\u001b[0m \u001b[0mon\u001b[0m\u001b[0;34m=\u001b[0m\u001b[0;34m\"settingid\"\u001b[0m\u001b[0;34m)\u001b[0m\u001b[0;34m\u001b[0m\u001b[0m\n",
      "\u001b[0;32m/mnt/hdd_data/thesis/projects/biclust_comp2/code3/moduledetection-evaluation/lib/modulescomparison.py\u001b[0m in \u001b[0;36mload\u001b[0;34m(self, name, full)\u001b[0m\n\u001b[1;32m    225\u001b[0m \u001b[0;34m\u001b[0m\u001b[0m\n\u001b[1;32m    226\u001b[0m     \u001b[0;32mdef\u001b[0m \u001b[0mload\u001b[0m\u001b[0;34m(\u001b[0m\u001b[0mself\u001b[0m\u001b[0;34m,\u001b[0m \u001b[0mname\u001b[0m\u001b[0;34m,\u001b[0m \u001b[0mfull\u001b[0m\u001b[0;34m=\u001b[0m\u001b[0;32mFalse\u001b[0m\u001b[0;34m)\u001b[0m\u001b[0;34m:\u001b[0m\u001b[0;34m\u001b[0m\u001b[0m\n\u001b[0;32m--> 227\u001b[0;31m         \u001b[0mself\u001b[0m\u001b[0;34m.\u001b[0m\u001b[0mscores\u001b[0m \u001b[0;34m=\u001b[0m \u001b[0mpd\u001b[0m\u001b[0;34m.\u001b[0m\u001b[0mread_table\u001b[0m\u001b[0;34m(\u001b[0m\u001b[0;34m\"../results/modeval_coverage/\"\u001b[0m \u001b[0;34m+\u001b[0m \u001b[0mname\u001b[0m \u001b[0;34m+\u001b[0m \u001b[0;34m\".tsv\"\u001b[0m\u001b[0;34m,\u001b[0m \u001b[0mindex_col\u001b[0m\u001b[0;34m=\u001b[0m\u001b[0;36m0\u001b[0m\u001b[0;34m)\u001b[0m\u001b[0;34m\u001b[0m\u001b[0m\n\u001b[0m\u001b[1;32m    228\u001b[0m         \u001b[0;32mif\u001b[0m \u001b[0mfull\u001b[0m\u001b[0;34m:\u001b[0m\u001b[0;34m\u001b[0m\u001b[0m\n\u001b[1;32m    229\u001b[0m             \u001b[0mself\u001b[0m\u001b[0;34m.\u001b[0m\u001b[0mscores_full\u001b[0m \u001b[0;34m=\u001b[0m \u001b[0mjson\u001b[0m\u001b[0;34m.\u001b[0m\u001b[0mload\u001b[0m\u001b[0;34m(\u001b[0m\u001b[0mopen\u001b[0m\u001b[0;34m(\u001b[0m\u001b[0;34m\"../results/modeval_coverage/\"\u001b[0m \u001b[0;34m+\u001b[0m \u001b[0mname\u001b[0m \u001b[0;34m+\u001b[0m \u001b[0;34m\".json\"\u001b[0m\u001b[0;34m)\u001b[0m\u001b[0;34m)\u001b[0m\u001b[0;34m\u001b[0m\u001b[0m\n",
      "\u001b[0;32m~/.local/lib/python3.6/site-packages/pandas/io/parsers.py\u001b[0m in \u001b[0;36mparser_f\u001b[0;34m(filepath_or_buffer, sep, delimiter, header, names, index_col, usecols, squeeze, prefix, mangle_dupe_cols, dtype, engine, converters, true_values, false_values, skipinitialspace, skiprows, nrows, na_values, keep_default_na, na_filter, verbose, skip_blank_lines, parse_dates, infer_datetime_format, keep_date_col, date_parser, dayfirst, iterator, chunksize, compression, thousands, decimal, lineterminator, quotechar, quoting, escapechar, comment, encoding, dialect, tupleize_cols, error_bad_lines, warn_bad_lines, skipfooter, doublequote, delim_whitespace, low_memory, memory_map, float_precision)\u001b[0m\n\u001b[1;32m    676\u001b[0m                     skip_blank_lines=skip_blank_lines)\n\u001b[1;32m    677\u001b[0m \u001b[0;34m\u001b[0m\u001b[0m\n\u001b[0;32m--> 678\u001b[0;31m         \u001b[0;32mreturn\u001b[0m \u001b[0m_read\u001b[0m\u001b[0;34m(\u001b[0m\u001b[0mfilepath_or_buffer\u001b[0m\u001b[0;34m,\u001b[0m \u001b[0mkwds\u001b[0m\u001b[0;34m)\u001b[0m\u001b[0;34m\u001b[0m\u001b[0m\n\u001b[0m\u001b[1;32m    679\u001b[0m \u001b[0;34m\u001b[0m\u001b[0m\n\u001b[1;32m    680\u001b[0m     \u001b[0mparser_f\u001b[0m\u001b[0;34m.\u001b[0m\u001b[0m__name__\u001b[0m \u001b[0;34m=\u001b[0m \u001b[0mname\u001b[0m\u001b[0;34m\u001b[0m\u001b[0m\n",
      "\u001b[0;32m~/.local/lib/python3.6/site-packages/pandas/io/parsers.py\u001b[0m in \u001b[0;36m_read\u001b[0;34m(filepath_or_buffer, kwds)\u001b[0m\n\u001b[1;32m    438\u001b[0m \u001b[0;34m\u001b[0m\u001b[0m\n\u001b[1;32m    439\u001b[0m     \u001b[0;31m# Create the parser.\u001b[0m\u001b[0;34m\u001b[0m\u001b[0;34m\u001b[0m\u001b[0m\n\u001b[0;32m--> 440\u001b[0;31m     \u001b[0mparser\u001b[0m \u001b[0;34m=\u001b[0m \u001b[0mTextFileReader\u001b[0m\u001b[0;34m(\u001b[0m\u001b[0mfilepath_or_buffer\u001b[0m\u001b[0;34m,\u001b[0m \u001b[0;34m**\u001b[0m\u001b[0mkwds\u001b[0m\u001b[0;34m)\u001b[0m\u001b[0;34m\u001b[0m\u001b[0m\n\u001b[0m\u001b[1;32m    441\u001b[0m \u001b[0;34m\u001b[0m\u001b[0m\n\u001b[1;32m    442\u001b[0m     \u001b[0;32mif\u001b[0m \u001b[0mchunksize\u001b[0m \u001b[0;32mor\u001b[0m \u001b[0miterator\u001b[0m\u001b[0;34m:\u001b[0m\u001b[0;34m\u001b[0m\u001b[0m\n",
      "\u001b[0;32m~/.local/lib/python3.6/site-packages/pandas/io/parsers.py\u001b[0m in \u001b[0;36m__init__\u001b[0;34m(self, f, engine, **kwds)\u001b[0m\n\u001b[1;32m    785\u001b[0m             \u001b[0mself\u001b[0m\u001b[0;34m.\u001b[0m\u001b[0moptions\u001b[0m\u001b[0;34m[\u001b[0m\u001b[0;34m'has_index_names'\u001b[0m\u001b[0;34m]\u001b[0m \u001b[0;34m=\u001b[0m \u001b[0mkwds\u001b[0m\u001b[0;34m[\u001b[0m\u001b[0;34m'has_index_names'\u001b[0m\u001b[0;34m]\u001b[0m\u001b[0;34m\u001b[0m\u001b[0m\n\u001b[1;32m    786\u001b[0m \u001b[0;34m\u001b[0m\u001b[0m\n\u001b[0;32m--> 787\u001b[0;31m         \u001b[0mself\u001b[0m\u001b[0;34m.\u001b[0m\u001b[0m_make_engine\u001b[0m\u001b[0;34m(\u001b[0m\u001b[0mself\u001b[0m\u001b[0;34m.\u001b[0m\u001b[0mengine\u001b[0m\u001b[0;34m)\u001b[0m\u001b[0;34m\u001b[0m\u001b[0m\n\u001b[0m\u001b[1;32m    788\u001b[0m \u001b[0;34m\u001b[0m\u001b[0m\n\u001b[1;32m    789\u001b[0m     \u001b[0;32mdef\u001b[0m \u001b[0mclose\u001b[0m\u001b[0;34m(\u001b[0m\u001b[0mself\u001b[0m\u001b[0;34m)\u001b[0m\u001b[0;34m:\u001b[0m\u001b[0;34m\u001b[0m\u001b[0m\n",
      "\u001b[0;32m~/.local/lib/python3.6/site-packages/pandas/io/parsers.py\u001b[0m in \u001b[0;36m_make_engine\u001b[0;34m(self, engine)\u001b[0m\n\u001b[1;32m   1012\u001b[0m     \u001b[0;32mdef\u001b[0m \u001b[0m_make_engine\u001b[0m\u001b[0;34m(\u001b[0m\u001b[0mself\u001b[0m\u001b[0;34m,\u001b[0m \u001b[0mengine\u001b[0m\u001b[0;34m=\u001b[0m\u001b[0;34m'c'\u001b[0m\u001b[0;34m)\u001b[0m\u001b[0;34m:\u001b[0m\u001b[0;34m\u001b[0m\u001b[0m\n\u001b[1;32m   1013\u001b[0m         \u001b[0;32mif\u001b[0m \u001b[0mengine\u001b[0m \u001b[0;34m==\u001b[0m \u001b[0;34m'c'\u001b[0m\u001b[0;34m:\u001b[0m\u001b[0;34m\u001b[0m\u001b[0m\n\u001b[0;32m-> 1014\u001b[0;31m             \u001b[0mself\u001b[0m\u001b[0;34m.\u001b[0m\u001b[0m_engine\u001b[0m \u001b[0;34m=\u001b[0m \u001b[0mCParserWrapper\u001b[0m\u001b[0;34m(\u001b[0m\u001b[0mself\u001b[0m\u001b[0;34m.\u001b[0m\u001b[0mf\u001b[0m\u001b[0;34m,\u001b[0m \u001b[0;34m**\u001b[0m\u001b[0mself\u001b[0m\u001b[0;34m.\u001b[0m\u001b[0moptions\u001b[0m\u001b[0;34m)\u001b[0m\u001b[0;34m\u001b[0m\u001b[0m\n\u001b[0m\u001b[1;32m   1015\u001b[0m         \u001b[0;32melse\u001b[0m\u001b[0;34m:\u001b[0m\u001b[0;34m\u001b[0m\u001b[0m\n\u001b[1;32m   1016\u001b[0m             \u001b[0;32mif\u001b[0m \u001b[0mengine\u001b[0m \u001b[0;34m==\u001b[0m \u001b[0;34m'python'\u001b[0m\u001b[0;34m:\u001b[0m\u001b[0;34m\u001b[0m\u001b[0m\n",
      "\u001b[0;32m~/.local/lib/python3.6/site-packages/pandas/io/parsers.py\u001b[0m in \u001b[0;36m__init__\u001b[0;34m(self, src, **kwds)\u001b[0m\n\u001b[1;32m   1706\u001b[0m         \u001b[0mkwds\u001b[0m\u001b[0;34m[\u001b[0m\u001b[0;34m'usecols'\u001b[0m\u001b[0;34m]\u001b[0m \u001b[0;34m=\u001b[0m \u001b[0mself\u001b[0m\u001b[0;34m.\u001b[0m\u001b[0musecols\u001b[0m\u001b[0;34m\u001b[0m\u001b[0m\n\u001b[1;32m   1707\u001b[0m \u001b[0;34m\u001b[0m\u001b[0m\n\u001b[0;32m-> 1708\u001b[0;31m         \u001b[0mself\u001b[0m\u001b[0;34m.\u001b[0m\u001b[0m_reader\u001b[0m \u001b[0;34m=\u001b[0m \u001b[0mparsers\u001b[0m\u001b[0;34m.\u001b[0m\u001b[0mTextReader\u001b[0m\u001b[0;34m(\u001b[0m\u001b[0msrc\u001b[0m\u001b[0;34m,\u001b[0m \u001b[0;34m**\u001b[0m\u001b[0mkwds\u001b[0m\u001b[0;34m)\u001b[0m\u001b[0;34m\u001b[0m\u001b[0m\n\u001b[0m\u001b[1;32m   1709\u001b[0m \u001b[0;34m\u001b[0m\u001b[0m\n\u001b[1;32m   1710\u001b[0m         \u001b[0mpassed_names\u001b[0m \u001b[0;34m=\u001b[0m \u001b[0mself\u001b[0m\u001b[0;34m.\u001b[0m\u001b[0mnames\u001b[0m \u001b[0;32mis\u001b[0m \u001b[0;32mNone\u001b[0m\u001b[0;34m\u001b[0m\u001b[0m\n",
      "\u001b[0;32mpandas/_libs/parsers.pyx\u001b[0m in \u001b[0;36mpandas._libs.parsers.TextReader.__cinit__\u001b[0;34m()\u001b[0m\n",
      "\u001b[0;32mpandas/_libs/parsers.pyx\u001b[0m in \u001b[0;36mpandas._libs.parsers.TextReader._setup_parser_source\u001b[0;34m()\u001b[0m\n",
      "\u001b[0;31mFileNotFoundError\u001b[0m: File b'../results/modeval_coverage/paramexplo/agglom.tsv' does not exist"
     ]
    }
   ],
   "source": [
    "finalscores = []\n",
    "for methodname in methodnames:\n",
    "    settings_name = \"paramexplo/\" + methodname\n",
    "    settings = json.load(open(\"../conf/settings/{}.json\".format(settings_name)))\n",
    "    settings_dataset = pd.DataFrame([dict(settingid=settingid, **json.load(open(\"../\" + setting[\"dataset_location\"]))[\"params\"]) for settingid, setting in enumerate(settings)])\n",
    "    settings_method = pd.DataFrame([dict(settingid=settingid, **json.load(open(\"../\" + setting[\"method_location\"]))[\"params\"]) for settingid, setting in enumerate(settings)])\n",
    "    \n",
    "    print(methodname)\n",
    "    paramsoi = methodparamsoi[methodname]\n",
    "\n",
    "    scores = pd.DataFrame()\n",
    "    \n",
    "    modeval = ModevalKnownmodules(settings_name)\n",
    "    modeval.load(settings_name)\n",
    "    modeval.scores[\"score\"] = modeval.scores[\"F1rprr_permuted\"]\n",
    "    modeval.scores[\"moduledef\"] = [modulesname if modulesname in [\"minimal\", \"strict\"] else \"interconnected\" for modulesname in modeval.scores[\"knownmodules_name\"]]\n",
    "    modeval.scores = modeval.scores.merge(settings_dataset, on=\"settingid\").merge(settings_method, on=\"settingid\")\n",
    "    scores = scores.append(modeval.scores, ignore_index=True)\n",
    "    \n",
    "    modeval = ModevalCoverage(settings_name)\n",
    "    modeval.load(settings_name)\n",
    "    modeval.scores[\"score\"] = modeval.scores[\"aucodds_permuted\"]\n",
    "    modeval.scores = modeval.scores.merge(settings_dataset, on=\"settingid\").merge(settings_method, on=\"settingid\")\n",
    "    scores = scores.append(modeval.scores, ignore_index=True)\n",
    "    \n",
    "    methodscores = score_method(scores)\n",
    "    \n",
    "    methodscores[\"organismnetoi\"] = [dataset.split(\"_\")[0] for dataset in methodscores[\"goldstandardoi\"]]\n",
    "    methodscores[\"organismnetor\"] = [dataset.split(\"_\")[0] for dataset in methodscores[\"goldstandardor\"]]\n",
    "\n",
    "    finalscores.append(methodscores)\n",
    "finalscores = pd.concat(finalscores, ignore_index=True)"
   ]
  },
  {
   "cell_type": "code",
   "execution_count": 71,
   "metadata": {},
   "outputs": [],
   "source": [
    "def add_weights(scores):\n",
    "    weights = []\n",
    "    scores[\"moduledef\"] = scores[\"moduledef\"].fillna(\"\")\n",
    "    for organismoi, subscores in scores.groupby(\"organismoi\"):\n",
    "        moduledef_weights = 1/subscores.groupby(\"moduledef\")[\"score\"].count()\n",
    "        for moduledef, weight in moduledef_weights.items():\n",
    "            weights.append({\n",
    "                    \"organism\":organismoi,\n",
    "                    \"moduledef\":moduledef,\n",
    "                    \"weight\":weight / len(moduledef_weights)\n",
    "                })\n",
    "    weights = pd.DataFrame(weights).set_index([\"organism\", \"moduledef\"])[\"weight\"]\n",
    "    \n",
    "    scores[\"weight\"] = weights.loc[pd.Index(scores[[\"organismoi\", \"moduledef\"]])].tolist()\n",
    "    \n",
    "    return scores"
   ]
  },
  {
   "cell_type": "code",
   "execution_count": 72,
   "metadata": {},
   "outputs": [
    {
     "name": "stderr",
     "output_type": "stream",
     "text": [
      "/usr/local/lib/python3.6/site-packages/ipykernel_launcher.py:3: SettingWithCopyWarning: \n",
      "A value is trying to be set on a copy of a slice from a DataFrame.\n",
      "Try using .loc[row_indexer,col_indexer] = value instead\n",
      "\n",
      "See the caveats in the documentation: http://pandas.pydata.org/pandas-docs/stable/indexing.html#indexing-view-versus-copy\n",
      "  This is separate from the ipykernel package so we can avoid doing imports until\n",
      "/usr/local/lib/python3.6/site-packages/ipykernel_launcher.py:14: SettingWithCopyWarning: \n",
      "A value is trying to be set on a copy of a slice from a DataFrame.\n",
      "Try using .loc[row_indexer,col_indexer] = value instead\n",
      "\n",
      "See the caveats in the documentation: http://pandas.pydata.org/pandas-docs/stable/indexing.html#indexing-view-versus-copy\n",
      "  \n"
     ]
    }
   ],
   "source": [
    "trainingscores_ = add_weights(finalscores.loc[(finalscores[\"ofinterest\"] == finalscores[\"ofreference\"])])\n",
    "testscores_ = add_weights(finalscores.loc[(finalscores[\"ofinterest\"] != finalscores[\"ofreference\"]) & (finalscores[\"organismnetoi\"] != finalscores[\"organismnetor\"])])\n",
    "\n",
    "trainingscores = trainingscores_.groupby(\"method\").apply(lambda x: np.average(x.score, weights=x.weight))\n",
    "testscores = testscores_.groupby(\"method\").apply(lambda x: np.average(x.score, weights=x.weight))"
   ]
  },
  {
   "cell_type": "code",
   "execution_count": 73,
   "metadata": {},
   "outputs": [],
   "source": [
    "testscores_.to_csv(\"../results/testscores_.tsv\", sep=\"\\t\")\n",
    "trainingscores_.to_csv(\"../results/trainingscores_.tsv\", sep=\"\\t\")"
   ]
  },
  {
   "cell_type": "code",
   "execution_count": 74,
   "metadata": {},
   "outputs": [
    {
     "data": {
      "text/plain": [
       "method\n",
       "dummy    0.68831\n",
       "dtype: float64"
      ]
     },
     "execution_count": 74,
     "metadata": {},
     "output_type": "execute_result"
    }
   ],
   "source": [
    "trainingscores"
   ]
  },
  {
   "cell_type": "code",
   "execution_count": 75,
   "metadata": {},
   "outputs": [
    {
     "data": {
      "image/png": "[encoded data removed]",
      "text/plain": [
       "<Figure size 36x360 with 1 Axes>"
      ]
     },
     "metadata": {},
     "output_type": "display_data"
    }
   ],
   "source": [
    "fig, ax = subplots(figsize=(len(trainingscores)/2, 5))\n",
    "\n",
    "methodorder = testscores.sort_values(ascending=False).index\n",
    "\n",
    "ax.bar(range(len(methodorder)), trainingscores[methodorder], color=\"grey\")\n",
    "ax.bar(range(len(methodorder)), testscores[methodorder], color=\"#333333\")\n",
    "ax.set_xlim(-0.2, len(methodorder))\n",
    "ax.set_xticks(np.arange(len(methodorder))+0.4)\n",
    "ax.set_xticklabels(methodorder, rotation=45, ha=\"right\", va=\"top\")\n",
    "\"\"\n",
    "\n",
    "\n",
    "ax.tick_params(labelsize=14)"
   ]
  }
 ],
 "metadata": {
  "kernelspec": {
   "display_name": "Python 3",
   "language": "python",
   "name": "python3"
  },
  "language_info": {
   "codemirror_mode": {
    "name": "ipython",
    "version": 3
   },
   "file_extension": ".py",
   "mimetype": "text/x-python",
   "name": "python",
   "nbconvert_exporter": "python",
   "pygments_lexer": "ipython3",
   "version": "3.7.3"
  }
 },
 "nbformat": 4,
 "nbformat_minor": 1
}
